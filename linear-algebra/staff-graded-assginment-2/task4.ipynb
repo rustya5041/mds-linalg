{
 "cells": [
  {
   "cell_type": "markdown",
   "metadata": {},
   "source": [
    "We can formalize this problem in a matrix form. We obtain the transition matrix $ M = \\begin{bmatrix} 0.73 & 0.12 & 0.10 \\\\ 0.15 & 0.73 & 0.20 \\\\ 0.12 & 0.15 & 0.70 \\end{bmatrix}$, where each entry represents the probability of either getting a disease or shifting from one disease state to another. \n",
    "\n",
    "Given that the problem revolves around the Markov chain process, we can also state that this particular Markov chain is irreducible, namely that each disease state is reachable from each other, and is aperiodic - each state has probability ≠ 0 of returning to itself.\n",
    "\n",
    "Since this Markov chain is irreducible and aperiodic, it is possible to claim that the disease will reach plato at some arbitrary time period. We can consider this a limit. \n",
    "\n",
    "Given the transitional matrix $M$ we can obtain the following system of equations:\n",
    "\n",
    "$\\begin{cases} H = 0.73 \\cdot H + 0.12 \\cdot M + 0.1 \\cdot S\\\\ \n",
    "               M = 0.15 \\cdot H + 0.73 \\cdot M + 0.25 \\cdot S \\\\ \n",
    "               S = 0.12 \\cdot H + 0.15 \\cdot M + 0.75 \\cdot S \\\\\n",
    "               S + M + H = 1\n",
    "              \\end{cases}$\n",
    "\n",
    "Let H = x, M = y, and S = z.\n",
    "\n",
    "The system of equations can be written as:\n",
    "\n",
    "$\\begin{cases} x = 0.73x + 0.12y + 0.1z\\\\ \n",
    "               y = 0.15x + 0.73y + 0.25z \\\\ \n",
    "               z = 0.12x + 0.15y + 0.75z \\\\\n",
    "               x + y + z = 1\n",
    "              \\end{cases}$.\n",
    "\n",
    "Solving this system of equations, we obtain: x = 0.3139, y = 0.3945, z = 0.2916\n",
    "\n",
    "$\\therefore$ the limits for each state are: 3139 people for a severe disase, 3945 people for a mild disease state, 2916 healthy people.\n",
    "\n",
    "Below i attach the _numpy_ code to check the computations."
   ]
  },
  {
   "cell_type": "code",
   "execution_count": 25,
   "metadata": {},
   "outputs": [
    {
     "name": "stdout",
     "output_type": "stream",
     "text": [
      "Upper limit for healty = 2915, mild = 3945, severe = 3138\n"
     ]
    }
   ],
   "source": [
    "import numpy as np \n",
    "\n",
    "m = np.array([[0.73, 0.12, 0.10], [0.15, 0.73, 0.20], [0.12, 0.15, 0.70]])\n",
    "eigenvectors = np.linalg.eig(m)[1]\n",
    "\n",
    "limits = [int(i) for i in 10000 * (eigenvectors[:, 0] / eigenvectors[:, 0].sum())]\n",
    "\n",
    "print(f\"Upper limit for healty = {limits[0]}, mild = {limits[1]}, severe = {limits[2]}\")"
   ]
  }
 ],
 "metadata": {
  "kernelspec": {
   "display_name": "Python 3 (ipykernel)",
   "language": "python",
   "name": "python3"
  },
  "language_info": {
   "codemirror_mode": {
    "name": "ipython",
    "version": 3
   },
   "file_extension": ".py",
   "mimetype": "text/x-python",
   "name": "python",
   "nbconvert_exporter": "python",
   "pygments_lexer": "ipython3",
   "version": "3.9.12"
  },
  "vscode": {
   "interpreter": {
    "hash": "cd78fef2128015050713e82ca51c6520b11aee7c9ee8df750520bbbc7384cbaa"
   }
  }
 },
 "nbformat": 4,
 "nbformat_minor": 2
}
