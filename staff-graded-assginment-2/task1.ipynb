{
 "cells": [
  {
   "cell_type": "markdown",
   "metadata": {},
   "source": [
    "# `Q1`\n",
    "\n",
    "Let $\\vec{a} = \\begin{bmatrix} 2 \\\\ -1 \\end{bmatrix}$, \n",
    "    $\\vec{b} = \\begin{bmatrix} -3 \\\\ 2 \\end{bmatrix}$, \n",
    "    $\\vec{p} = \\begin{bmatrix} 2 \\\\ 4 \\end{bmatrix}$, \n",
    "    $\\vec{q} = \\begin{bmatrix} -1 \\\\ -2 \\end{bmatrix}$\n",
    "\n",
    "$R{_2}$ $\\mapsto$ $R{_2}$ $\\therefore$ the matrix of the linear operator $f$ is $M=$\n",
    "$\\begin{bmatrix} 2 & -3 \\\\ -1 & 2 \\end{bmatrix}^{-1} \\cdot \n",
    "\\begin{bmatrix} 2 & -1 \\\\ 4 & -2\\end{bmatrix} =\n",
    "\\begin{bmatrix} 2 & 3 \\\\ 1 & 2 \\end{bmatrix} \\cdot \n",
    "\\begin{bmatrix} 2 & -1 \\\\ 4 & -2\\end{bmatrix} =\n",
    "\\begin{bmatrix} 3 & 4 \\\\ 6 & 8\\end{bmatrix}$\n",
    "\n",
    "We consider it a matrix in a canonical basis $C$. To find the basis $AQ$ transformed by the liear operator $f$ given by vectors {$\\vec{a,q}$}, let us apply the change of basis equation.\n",
    "\n",
    "$T{_C {_\\rightarrow} _{AQ}}^{-1} \\cdot\n",
    "M{_C} \\cdot\n",
    "T{_C {_\\rightarrow} _{AQ}} =\n",
    "\\begin{bmatrix} 0.4 & -0.2 \\\\ -0.2 & -0.4 \\end{bmatrix} \\cdot\n",
    "\\begin{bmatrix} 3 & 4 \\\\ 6 & 8\\end{bmatrix} \\cdot\n",
    "\\begin{bmatrix} 2 & -1 \\\\ -1 & -2 \\end{bmatrix} = \n",
    "\\begin{bmatrix} 0 & 0 \\\\ -2 & 11\\end{bmatrix}$\n",
    "\n",
    "Sanity check using _numpy_ below\n",
    "\n"
   ]
  },
  {
   "cell_type": "code",
   "execution_count": 1,
   "metadata": {},
   "outputs": [
    {
     "name": "stdout",
     "output_type": "stream",
     "text": [
      "[[ 0.  0.]\n",
      " [-2. 11.]]\n"
     ]
    }
   ],
   "source": [
    "import numpy as np\n",
    "\n",
    "t = np.array([[2,-1], [-1,-2]])\n",
    "t_inv = np.linalg.inv(t)\n",
    "m = np.array([[3,4], [6,8]])\n",
    "\n",
    "print(t_inv @ m @ t)"
   ]
  }
 ],
 "metadata": {
  "kernelspec": {
   "display_name": "base",
   "language": "python",
   "name": "python3"
  },
  "language_info": {
   "codemirror_mode": {
    "name": "ipython",
    "version": 3
   },
   "file_extension": ".py",
   "mimetype": "text/x-python",
   "name": "python",
   "nbconvert_exporter": "python",
   "pygments_lexer": "ipython3",
   "version": "3.9.12"
  },
  "orig_nbformat": 4,
  "vscode": {
   "interpreter": {
    "hash": "cd78fef2128015050713e82ca51c6520b11aee7c9ee8df750520bbbc7384cbaa"
   }
  }
 },
 "nbformat": 4,
 "nbformat_minor": 2
}
