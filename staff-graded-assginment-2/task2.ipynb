{
 "cells": [
  {
   "cell_type": "markdown",
   "metadata": {},
   "source": [
    "# `Q2`\n",
    "\n",
    "$A = U\\Sigma V^T$\n",
    "\n",
    "---\n",
    "First, let us obtain singular values. For that we need to find the square roots of eigenvalues for the $AA^T$.\n",
    "\n",
    "Given $A = \\begin{pmatrix} 2 & 1 & 2  \\\\ 2 & -1 & -2 \\\\ 4 & 2 & 4 \\\\ 2 & 1 & 2 \\end{pmatrix}$, we get\n",
    "\n",
    "$AA^T = \\begin{pmatrix} 2 & 1 & 2  \\\\ 2 & -1 & -2 \\\\ 4 & 2 & 4 \\\\ 2 & 1 & 2 \\end{pmatrix} \\cdot\n",
    "        \\begin{pmatrix} 2 & -2 & 4 & 2  \\\\ 1 & -1 & 2 & 1 \\\\ 2 & -2 & 4 & 4 \\end{pmatrix} =\n",
    "        \\begin{pmatrix} 9 & -9 & 18 & 9  \\\\ -9 & 9 & -18 & -9 \\\\ 18 & -18 & 36 & 18 \\\\ 9 & -9 & 18 & 9 \\end{pmatrix}$ $\\implies$ we can find eigenvectors and eigenvalues of $AA^T$\n",
    "\n",
    "Given $\\vec{v{_1}} = \\begin{pmatrix} 1 \\\\ -1 \\\\ 2 \\\\1 \\end{pmatrix},\n",
    "       \\vec{v{_2}} = \\begin{pmatrix} -1 \\\\ 0 \\\\ 0 \\\\1 \\end{pmatrix},\n",
    "       \\vec{v{_3}} = \\begin{pmatrix} -2 \\\\ 0 \\\\ 1 \\\\0 \\end{pmatrix},\n",
    "       \\vec{v{_4}} = \\begin{pmatrix} 1 \\\\ 1 \\\\ 0 \\\\ 0 \\end{pmatrix}$ and $\\lambda_1 = \\sqrt{63}, \\lambda_2 = 0, \\lambda_3 = 0, \\lambda_4 = 0$ \n",
    "       \n",
    "$\\implies \\Sigma = \\begin{pmatrix} \\sqrt{63} & 0 & 0 & 0 \\\\ 0 & 0 & 0 & 0 \\\\ 0 & 0 & 0 & 0 \\end{pmatrix}$\n",
    "\n",
    "---\n",
    "To find $U$, we orthonormalize the obtained eigenvectors\n",
    "$\\vec{v{_1}} = \\begin{pmatrix} 1 \\\\ -1 \\\\ 2 \\\\1 \\end{pmatrix},\n",
    "       \\vec{v{_2}} = \\begin{pmatrix} -1 \\\\ 0 \\\\ 0 \\\\1 \\end{pmatrix},\n",
    "       \\vec{v{_3}} = \\begin{pmatrix} -2 \\\\ 0 \\\\ 1 \\\\0 \\end{pmatrix},\n",
    "       \\vec{v{_4}} = \\begin{pmatrix} 1 \\\\ 1 \\\\ 0 \\\\ 0 \\end{pmatrix}$ using the Gram-Schmidt process\n",
    "\n",
    "$ \\therefore \n",
    "{\\vec{u{_1}}} = {\\vec{v{_1}}}, \\vec{e{_1}} = {\\vec{u{_1}}\\over{\\vec{||u_1||}}} = \\begin{pmatrix} 1\\over{\\sqrt{7}} \\\\\\\\ -{1\\over{\\sqrt{7}}} \\\\\\\\ 2\\over{\\sqrt{7}} \\\\\\\\ 1\\over{\\sqrt{7}} \\end{pmatrix}$\n",
    "\n",
    "${\\vec{u{_2}}} = {\\vec{v{_2}}}, \\vec{e{_2}} = {\\vec{u{_2}}\\over{\\vec{||u_2||}}} = \\begin{pmatrix} -{1\\over{\\sqrt{2}}} \\\\\\ 0 \\\\\\ 0 \\\\\\ 1\\over{\\sqrt{2}} \\end{pmatrix}$\n",
    "\n",
    "${\\vec{u{_3}}} = {\\vec{v{_3}}}, \\vec{e{_3}} = {\\vec{u{_3}}\\over{\\vec{||u_3||}}} = \\begin{pmatrix} -{1\\over{\\sqrt{3}}} \\\\\\\\ 0 \\\\\\\\ 1\\over{\\sqrt{3}} \\\\\\\\ -{1\\over{\\sqrt{3}}} \\end{pmatrix}$\n",
    "\n",
    "${\\vec{u{_4}}} = {\\vec{v{_4}}}, \\vec{e{_4}} = {\\vec{u{_4}}\\over{\\vec{||u_4||}}} = \\begin{pmatrix} 1\\over{\\sqrt{42}} \\\\\\\\ \\sqrt{42}\\over{7} \\\\\\\\ \\sqrt{42}\\over{21} \\\\\\\\ 1\\over{\\sqrt{42}} \\end{pmatrix}$\n",
    "\n",
    "$\\implies U = \\begin{pmatrix} 1\\over{\\sqrt{7}} & -1\\over{\\sqrt{2}} & -1\\over{\\sqrt{3}} & 1\\over{\\sqrt{42}} \\\\\\\\ -{1\\over{\\sqrt{7}}} & 0 & 0 & \\sqrt{42}\\over{7} \\\\\\\\ 2\\over{\\sqrt{7}} & 0 & 1\\over{\\sqrt{3}} & \\sqrt{42}\\over{21} \\\\\\\\ 1\\over{\\sqrt{7}}  & 1\\over{\\sqrt{2}} & -{1\\over{\\sqrt{3}}} & sqrt{42}\\over{21} \\end{pmatrix}$\n",
    "\n",
    "--- \n",
    "Given that one of our eigenvectors already satisfies the condition for upper corner of $V = {1\\over{\\sqrt{2}}}$, we can get $V$ through $A^TA$\n",
    "\n",
    "$A^TA = \\begin{pmatrix} 2 & -2 & 4 & 2 \\\\ 1 & -1 & 2 & 1 \\\\ 2 & -2 & 4 & 2 \\end{pmatrix} \\cdot\n",
    "        \\begin{pmatrix} 2 & -1 & 2 \\\\ -2 & -1 & -2 \\\\ 4 & 2 & 4 \\\\ 2 & 1 & 2 \\end{pmatrix} =\n",
    "        \\begin{pmatrix} 28 & 14 & 28 \\\\ 14 & 7 & 14 \\\\ 28 & 14 & 28 \\end{pmatrix} = \n",
    "        \\begin{pmatrix} 2 & 1 & 2 \\\\ 2 & 1 & 2 \\\\ 2 & 1 & 2 \\end{pmatrix}$, and related eigenvectors $v{_3} = \\begin{pmatrix} -0.5 \\\\ 1 \\\\ 0 \\end{pmatrix}, \n",
    "                                                                                                      v{_2} = \\begin{pmatrix} 1 \\\\ 0 \\\\ 1 \\end{pmatrix} \n",
    "\\implies \n",
    "V = \\begin{pmatrix} 2\\over3 & - {1\\over{3\\sqrt{2}}} & {1\\over{\\sqrt{2}}} \\\\\\\\ 1\\over3 & 2\\over{2\\sqrt{2}} & 0 \\\\\\\\ 2\\over3 & -{1\\over{3\\sqrt{2}}} & 1\\over2 \\end{pmatrix}  $ \n",
    "\n",
    "The sanity check using _numpy_ is below."
   ]
  },
  {
   "cell_type": "code",
   "execution_count": 6,
   "metadata": {},
   "outputs": [
    {
     "name": "stdout",
     "output_type": "stream",
     "text": [
      "U:\n",
      "[[-0.378  -0.9258  0.      0.    ]\n",
      " [ 0.378  -0.1543 -0.9129  0.    ]\n",
      " [-0.7559  0.3086 -0.3651 -0.4472]\n",
      " [-0.378   0.1543 -0.1826  0.8944]]\n",
      "\n",
      "S:[63.  0.  0.  0.]\n",
      "\n",
      "\n",
      "Pls note that U and V shall not necessarily align with the manually computed eigenvectors due to the numpy vector scaling or arbitrary rotation. In our case U has flipped signs, meaning scaling by -1; also, there's a presence of arbitrary vector rotation\n",
      "\n",
      "V:\n",
      "[[ 0.66666667  0.33333333  0.66666667]\n",
      " [-0.74535599  0.2981424   0.59628479]\n",
      " [-0.          0.89442719 -0.4472136 ]]\n"
     ]
    }
   ],
   "source": [
    "import numpy as np \n",
    "\n",
    "AAT = np.array([[9, -9, 18, 9], [-9, 9, -18, -9], [18, -18, 36, 18], [9, -9, 18, 9]])\n",
    "print(f\"U:\\n{np.round(np.linalg.svd(AAT, full_matrices=True)[0],4)}\\n\\nS:{np.round(np.linalg.svd(AAT, full_matrices=True)[1])}\\n\\n\\nPls note that U and V shall not necessarily align with the manually computed eigenvectors due to the numpy vector scaling or arbitrary rotation. In our case U has flipped signs, meaning scaling by -1; also, there's a presence of arbitrary vector rotation\\n\")\n",
    "\n",
    "ATA = np.array([[28,14,28], [14,7,14], [28,14,28]])\n",
    "print(f\"V:\\n{np.linalg.svd(ATA, full_matrices=True)[2] * -1}\")"
   ]
  }
 ],
 "metadata": {
  "kernelspec": {
   "display_name": "Python 3 (ipykernel)",
   "language": "python",
   "name": "python3"
  },
  "language_info": {
   "codemirror_mode": {
    "name": "ipython",
    "version": 3
   },
   "file_extension": ".py",
   "mimetype": "text/x-python",
   "name": "python",
   "nbconvert_exporter": "python",
   "pygments_lexer": "ipython3",
   "version": "3.9.12"
  },
  "vscode": {
   "interpreter": {
    "hash": "cd78fef2128015050713e82ca51c6520b11aee7c9ee8df750520bbbc7384cbaa"
   }
  }
 },
 "nbformat": 4,
 "nbformat_minor": 2
}
