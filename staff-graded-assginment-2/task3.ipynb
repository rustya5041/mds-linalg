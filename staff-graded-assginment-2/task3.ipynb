{
 "cells": [
  {
   "cell_type": "markdown",
   "metadata": {},
   "source": [
    "Let's denote the nodes of the system by corresponding variables. We obtain the following system of equations:\n",
    "\n",
    "$\\begin{cases} x{_1} = {1 \\over 2} \\cdot x{_3} + {1 \\over 3} \\cdot x{_4} \\\\ \n",
    "               x{_2} = {1} \\cdot x{_2} + {1 \\over 3 } \\cdot x{_4} \\\\ \n",
    "               x{_3} = {1 \\over 2} \\cdot x{_1} \\\\\n",
    "               x{_4} = {1 \\over 3} \\cdot x{_4} + {1 \\over 2} \\cdot x{_1} + {1 \\over 2} \\cdot x{_3}  \n",
    "              \\end{cases}$\n",
    "\n",
    "We can rewrite the system in the matrix form: $M = \\begin{pmatrix} 0 & 0 & {1 \\over 2} & {1 \\over 3} \\\\ \n",
    "                 0 & 1 & 0 & {1 \\over 3} \\\\ \n",
    "                 {1 \\over 2} & 0 & 0 & 0 \\\\ \n",
    "                 {1 \\over 2} & 0 & {1 \\over 2} & {1 \\over 3} \n",
    "              \\end{pmatrix}$\n",
    "\n",
    "As we know, each page gets the equal treatment, so the rank vector $\\vec{v} =\\begin{pmatrix} {1 \\over 4} \\\\ {1 \\over 4} \\\\ {1 \\over 4} \\\\ {1 \\over 4} \\end{pmatrix}$\n",
    "\n",
    "To obtain the most influenced vertex, we can iteratively scale the matrix by the rank vector for an arbitrary number of iterations $i{_n}$ and update our rank vector after each iteration. Hence, the solution will have a following form:\n",
    "\n",
    "$\\vec{v{_1}} = M \\cdot \\vec{v}$  \n",
    "$\\vec{v{_2}} = M\\cdot 2\\vec{v} = M \\cdot (M \\cdot \\vec{v})$  \n",
    "$\\vec{v{_3}} = M\\cdot 3\\vec{v} = M \\cdot (M \\cdot M \\cdot \\vec{v})$  \n",
    "$ \\vec{v{_i}} = M\\cdot i\\vec{v} = M \\cdot (M^i \\cdot \\vec{v})$\n",
    "\n",
    "Even after a few iterations, we obtain\n",
    "\n",
    "$\\vec{v{_1}} = \\begin{pmatrix} 0 & 0 & {1 \\over 2} & {1 \\over 3} \\\\ \n",
    "                 0 & 1 & 0 & {1 \\over 3} \\\\ \n",
    "                 {1 \\over 2} & 0 & 0 & 0 \\\\ \n",
    "                 {1 \\over 2} & 0 & {1 \\over 2} & {1 \\over 3} \n",
    "              \\end{pmatrix} \\cdot \n",
    "              \\begin{pmatrix} {1 \\over 4} \\\\ {1 \\over 4} \\\\ {1 \\over 4} \\\\ {1 \\over 4} \\end{pmatrix} =  \n",
    "              \\begin{pmatrix} 5 \\over 24 \\\\ {1 \\over 3} \\\\ {1 \\over 8} \\\\ {1 \\over 3}\n",
    "                \\end{pmatrix}$\n",
    "\n",
    "$\\vec{v{_2}} = \\begin{pmatrix} 0 & 0 & {1 \\over 2} & {1 \\over 3} \\\\ \n",
    "                 0 & 1 & 0 & {1 \\over 3} \\\\ \n",
    "                 {1 \\over 2} & 0 & 0 & 0 \\\\ \n",
    "                 {1 \\over 2} & 0 & {1 \\over 2} & {1 \\over 3} \\end{pmatrix} \\cdot  \n",
    "              \\begin{pmatrix} 5 \\over 24 \\\\ {1 \\over 3} \\\\ {1 \\over 8} \\\\ {1 \\over 3} \\end{pmatrix} = \n",
    "              \\begin{pmatrix} 25 \\over 144 \\\\ {4 \\over 9} \\\\ {5 \\over 48} \\\\ {5 \\over 18}\\end{pmatrix}$, with the updated probabilities we obtain \n",
    "              $p =\\begin{pmatrix} 0.17 \\\\ 0.44 \\\\ 0.10 \\\\ 0.28 \\end{pmatrix}$\n",
    "\n",
    "$\\vec{v{_3}} = \\begin{pmatrix} 0 & 0 & {1 \\over 2} & {1 \\over 3} \\\\ \n",
    "                 0 & 1 & 0 & {1 \\over 3} \\\\ \n",
    "                 {1 \\over 2} & 0 & 0 & 0 \\\\ \n",
    "                 {1 \\over 2} & 0 & {1 \\over 2} & {1 \\over 3} \\end{pmatrix} \\cdot\n",
    "                \\begin{pmatrix} 25 \\over 144 \\\\ {4 \\over 9} \\\\ {5 \\over 48} \\\\ {5 \\over 18} \\end{pmatrix} =\n",
    "                \\begin{pmatrix} 125 \\over 864 \\\\ {29 \\over 54} \\\\ {25 \\over 288} \\\\ {25 \\over 108} \\end{pmatrix}$, with the updated probabilities we obtain\n",
    "                $p =\\begin{pmatrix} 0.14 \\\\ 0.54 \\\\ 0.09 \\\\ 0.23 \\end{pmatrix}$\n",
    "\n",
    "$\\vec{v{_4}} = \\begin{pmatrix} 0 & 0 & {1 \\over 2} & {1 \\over 3} \\\\ \n",
    "                 0 & 1 & 0 & {1 \\over 3} \\\\ \n",
    "                 {1 \\over 2} & 0 & 0 & 0 \\\\ \n",
    "                 {1 \\over 2} & 0 & {1 \\over 2} & {1 \\over 3} \\end{pmatrix} \\cdot\n",
    "                \\begin{pmatrix} 125 \\over 864 \\\\ {29 \\over 54} \\\\ {25 \\over 288} \\\\ {25 \\over 108} \\end{pmatrix} =\n",
    "                \\begin{pmatrix} 625 \\over 5184 \\\\ {197 \\over 324} \\\\ {125 \\over 1728} \\\\ {125 \\over 648} \\end{pmatrix}$, with the updated probabilities we obtain\n",
    "                $p =\\begin{pmatrix} 0.12 \\\\ 0.61 \\\\ 0.07 \\\\ 0.20 \\end{pmatrix}$\n",
    "\n",
    "\n",
    "$\\therefore$ the vertex 2 is growing at higher rates, both in terms of the probability increase and relative delta. I attach the _numpy_ code below for consistency & sanity check.\n",
    "                "
   ]
  },
  {
   "cell_type": "code",
   "execution_count": 50,
   "metadata": {},
   "outputs": [
    {
     "name": "stdout",
     "output_type": "stream",
     "text": [
      "Iteration: 1\n",
      "Ranks:\n",
      "[0.20833333333333331, 0.3333333333333333, 0.125, 0.3333333333333333]\n",
      "\n",
      "Iteration: 2\n",
      "Ranks:\n",
      "[0.1736111111111111, 0.4444444444444444, 0.10416666666666666, 0.2777777777777778]\n",
      "\n",
      "Iteration: 3\n",
      "Ranks:\n",
      "[0.14467592592592593, 0.537037037037037, 0.08680555555555555, 0.23148148148148148]\n",
      "\n",
      "Iteration: 4\n",
      "Ranks:\n",
      "[0.12056327160493827, 0.6141975308641975, 0.07233796296296297, 0.19290123456790123]\n",
      "\n",
      "Iteration: 5\n",
      "Ranks:\n",
      "[0.10046939300411523, 0.6784979423868313, 0.06028163580246913, 0.16075102880658437]\n",
      "\n",
      "Iteration: 6\n",
      "Ranks:\n",
      "[0.08372449417009603, 0.7320816186556927, 0.05023469650205761, 0.13395919067215364]\n",
      "\n",
      "most important page index: 1\n",
      "most important page number: 2\n"
     ]
    }
   ],
   "source": [
    "import numpy as np\n",
    "\n",
    "# matrix & rank vector\n",
    "m = np.array([[0,0,1/2,1/3], [0,1,0,1/3], [1/2,0,0,0], [1/2, 0, 1/2, 1/3]])\n",
    "page_rank_vector = np.array([[0.25], [0.25], [0.25], [0.25]])\n",
    "\n",
    "# 10 iterations\n",
    "for i in range(1, 7):\n",
    "    page_rank_vector = np.dot(m, page_rank_vector)\n",
    "    print(f\"Iteration: {i}\\nRanks:\\n{[float(i) for i in page_rank_vector]}\\n\")\n",
    "print(f\"most important page index: {np.argmax(page_rank_vector)}\\nmost important page number: {np.argmax(page_rank_vector)+1}\")"
   ]
  }
 ],
 "metadata": {
  "kernelspec": {
   "display_name": "Python 3 (ipykernel)",
   "language": "python",
   "name": "python3"
  },
  "language_info": {
   "codemirror_mode": {
    "name": "ipython",
    "version": 3
   },
   "file_extension": ".py",
   "mimetype": "text/x-python",
   "name": "python",
   "nbconvert_exporter": "python",
   "pygments_lexer": "ipython3",
   "version": "3.9.12"
  },
  "vscode": {
   "interpreter": {
    "hash": "cd78fef2128015050713e82ca51c6520b11aee7c9ee8df750520bbbc7384cbaa"
   }
  }
 },
 "nbformat": 4,
 "nbformat_minor": 2
}
