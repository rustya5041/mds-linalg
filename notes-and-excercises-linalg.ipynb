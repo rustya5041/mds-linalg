{
 "cells": [
  {
   "attachments": {},
   "cell_type": "markdown",
   "metadata": {},
   "source": [
    "`Grading Formula`\n",
    "\n",
    "0.3 weekly quizzes   \n",
    "0.2 SGA1  \n",
    "0.2 SGA2  \n",
    "0.3 final project  \n",
    "\n",
    "**deadlines: Sunday 10:59 AM MSK**"
   ]
  },
  {
   "attachments": {},
   "cell_type": "markdown",
   "metadata": {},
   "source": [
    "`Webinar Schedule`\n",
    "\n",
    "- January 13, 12:00 — 13:00, Q&A 1\n",
    "- January 15, 20:00 — 21:00, Q&A 2\n",
    "- January 27, 12:00 — 13:00, Q&A 3\n",
    "- January 29, 20:00 — 21:00, Q&A 4\n",
    "- February 10, 12:00 — 13:00, Q&A 5\n",
    "- February 12, 20:00 — 21:00, Q&A 6"
   ]
  },
  {
   "cell_type": "markdown",
   "metadata": {},
   "source": [
    "# `Week 1 - Matrices`"
   ]
  },
  {
   "cell_type": "code",
   "execution_count": 4,
   "metadata": {},
   "outputs": [],
   "source": [
    "import numpy as np\n",
    "from scipy.linalg import lu\n",
    "import numpy.linalg as la\n",
    "\n",
    "def row_echelon_form(matrix): \n",
    "    matrix = np.array(matrix, dtype=float) \n",
    "    lead = 0 \n",
    "    rowCount = len(matrix) \n",
    "    columnCount = len(matrix[0]) \n",
    "    for r in range(rowCount): \n",
    "        if lead >= columnCount: \n",
    "            return matrix \n",
    "        i = r \n",
    "        while matrix[i][lead] == 0: \n",
    "            i += 1 \n",
    "            if i == rowCount: \n",
    "                i = r \n",
    "                lead += 1 \n",
    "                if columnCount == lead: \n",
    "                    return matrix \n",
    "        matrix[[i, r]] = matrix[[r, i]] \n",
    "        if matrix[r][lead] != 0: \n",
    "            matrix[r] = matrix[r] / matrix[r][lead] \n",
    "        for i in range(rowCount): \n",
    "            if i != r: \n",
    "                if matrix[i][lead] != 0: \n",
    "                    matrix[i] = matrix[i] - matrix[i][lead] * matrix[r] \n",
    "        lead += 1 \n",
    "    return matrix"
   ]
  },
  {
   "attachments": {},
   "cell_type": "markdown",
   "metadata": {},
   "source": [
    "`Using inverse matrix to solve linear equations`"
   ]
  },
  {
   "cell_type": "code",
   "execution_count": 66,
   "metadata": {},
   "outputs": [
    {
     "name": "stdout",
     "output_type": "stream",
     "text": [
      "[[-2.5]\n",
      " [ 7. ]\n",
      " [ 0.5]]\n"
     ]
    }
   ],
   "source": [
    "# setting arrays\n",
    "a = np.array([[4,2,2], [3,2,1], [-2,-1,-2]])\n",
    "b = np.array([[5], [7], [-3]])\n",
    "\n",
    "# finding inverse\n",
    "inv = np.linalg.inv(a)\n",
    "\n",
    "# calculating solutions\n",
    "x = np.dot(inv, b)\n",
    "\n",
    "print(f\"{x}\")"
   ]
  },
  {
   "cell_type": "markdown",
   "metadata": {},
   "source": [
    "`find the row echelon reduced matrix form`"
   ]
  },
  {
   "cell_type": "code",
   "execution_count": 85,
   "metadata": {},
   "outputs": [
    {
     "name": "stdout",
     "output_type": "stream",
     "text": [
      "[[1 0]\n",
      " [0 1]]\n"
     ]
    }
   ],
   "source": [
    "# find the row echelon reduced matrix form\n",
    "\n",
    "matrix = np.array([[2,1], [2,-1]])\n",
    "\n",
    "# find the row echelon reduced matrix\n",
    "for i in range(0, len(matrix)):\n",
    "    for j in range(i+1, len(matrix)):\n",
    "        if matrix[i][i] == 0:\n",
    "            matrix[i], matrix[j] = matrix[j], matrix[i]\n",
    "        else:\n",
    "            matrix[j] = matrix[j] - matrix[i] * (matrix[j][i] / matrix[i][i])\n",
    "\n",
    "for i in range(len(matrix)-1, -1, -1):\n",
    "    for j in range(i-1, -1, -1):\n",
    "        matrix[j] = matrix[j] - matrix[i] * (matrix[j][i] / matrix[i][i])\n",
    "    matrix[i] = matrix[i] / matrix[i][i]\n",
    "\n",
    "print(matrix)"
   ]
  },
  {
   "cell_type": "code",
   "execution_count": 63,
   "metadata": {},
   "outputs": [
    {
     "name": "stdout",
     "output_type": "stream",
     "text": [
      "[[ 3. -1. -1.]\n",
      " [-4.  2.  1.]\n",
      " [-1.  0.  1.]]\n"
     ]
    }
   ],
   "source": [
    "matrix = np.array([[2,1,1], [3,2,1], [2,1,2]])\n",
    "\n",
    "# find the matrix inverse\n",
    "inv = np.linalg.inv(matrix)\n",
    "\n",
    "print(inv)\n"
   ]
  },
  {
   "cell_type": "code",
   "execution_count": 79,
   "metadata": {},
   "outputs": [
    {
     "data": {
      "text/plain": [
       "array([[2, 3],\n",
       "       [2, 1]])"
      ]
     },
     "execution_count": 79,
     "metadata": {},
     "output_type": "execute_result"
    }
   ],
   "source": [
    "# Choose an elementary transformation matrix T that transforms matrix A to an upper triangular one, where\n",
    "\n",
    "a = np.array([ [2,1], [2,-1]])\n",
    "\n",
    "# find the elementary transformation matrix  that transforms A to an upper triangular matrix\n",
    "t = np.array([[1,1], [0,1]])\n",
    "\n",
    "np.dot(a,t)"
   ]
  },
  {
   "cell_type": "code",
   "execution_count": 81,
   "metadata": {},
   "outputs": [
    {
     "data": {
      "text/plain": [
       "array([[2, 1],\n",
       "       [2, 2]])"
      ]
     },
     "execution_count": 81,
     "metadata": {},
     "output_type": "execute_result"
    }
   ],
   "source": [
    "# LU decomposition\n",
    "\n",
    "a = np.array([[2,1], [2,-1]])\n",
    "\n",
    "# find the LU decomposition\n",
    "l = np.array([[1,0], [1,1]])\n",
    "u = np.array([[2,1], [0,1]])\n",
    "\n",
    "np.dot(l,u)\n"
   ]
  },
  {
   "cell_type": "code",
   "execution_count": 84,
   "metadata": {},
   "outputs": [
    {
     "data": {
      "text/plain": [
       "array([[ 2,  3],\n",
       "       [ 0, -2]])"
      ]
     },
     "execution_count": 84,
     "metadata": {},
     "output_type": "execute_result"
    }
   ],
   "source": [
    "m = np.array([[2,1], [0,-2]])\n",
    "t = np.array([[1,1], [0,1]])\n",
    "\n",
    "np.dot(m,t)"
   ]
  },
  {
   "cell_type": "code",
   "execution_count": 91,
   "metadata": {},
   "outputs": [
    {
     "data": {
      "text/plain": [
       "array([[ 1,  2],\n",
       "       [ 3, 22]])"
      ]
     },
     "execution_count": 91,
     "metadata": {},
     "output_type": "execute_result"
    }
   ],
   "source": [
    "m = np.array([[1,2], [3,4]])\n",
    "\n",
    "np.linalg.inv(m) * -2\n",
    "\n",
    "# get upper triangular matrix\n",
    "np.triu(m)\n",
    "\n",
    "# get lower triangular matrix\n",
    "np.tril(m)\n",
    "\n",
    "# apply LU decomposition\n",
    "np.dot(np.tril(m), np.triu(m))"
   ]
  },
  {
   "cell_type": "markdown",
   "metadata": {},
   "source": [
    "`lower and upper matrices`"
   ]
  },
  {
   "cell_type": "code",
   "execution_count": 110,
   "metadata": {},
   "outputs": [
    {
     "name": "stdout",
     "output_type": "stream",
     "text": [
      "[[ 2  0]\n",
      " [ 2 -1]]\n",
      "\n",
      "[[ 2  1]\n",
      " [ 0 -1]]\n"
     ]
    }
   ],
   "source": [
    "m = np.array([[2,1], [2,-1]])\n",
    "\n",
    "low = np.tril(m)\n",
    "\n",
    "up = np.triu(m)\n",
    "\n",
    "print(low, up, sep='\\n\\n')\n"
   ]
  },
  {
   "attachments": {},
   "cell_type": "markdown",
   "metadata": {},
   "source": [
    "`plu decomp using scipy`\n"
   ]
  },
  {
   "cell_type": "code",
   "execution_count": 104,
   "metadata": {},
   "outputs": [
    {
     "data": {
      "text/plain": [
       "True"
      ]
     },
     "execution_count": 104,
     "metadata": {},
     "output_type": "execute_result"
    }
   ],
   "source": [
    "# plu decomp using scipy\n",
    "\n",
    "B = np.array([[0,0,1], [0,2,2], [3,0,4]])\n",
    "\n",
    "P, L, U = lu(B)\n",
    "\n",
    "# use allclose\n",
    "np.allclose(np.dot(np.dot (P, L), U), B)"
   ]
  },
  {
   "cell_type": "code",
   "execution_count": 119,
   "metadata": {},
   "outputs": [
    {
     "data": {
      "text/plain": [
       "array([[-2,  2],\n",
       "       [ 0,  1],\n",
       "       [-2,  1]])"
      ]
     },
     "execution_count": 119,
     "metadata": {},
     "output_type": "execute_result"
    }
   ],
   "source": [
    "# practice quizz 1\n",
    "\n",
    "# 1\n",
    "m1 = np.array([[1,1,0], [0,1,0], [0,0,-1]])\n",
    "m2 = np.array([[1,2,3], [0,1,0], [-1,-2,-3]])\n",
    "m3 = np.array([[1,1,1], [1,1,1], [-1,-1,-1]])\n",
    "m4 = np.array([[1,-1], [0,1], [-1,0]])\n",
    "\n",
    "sum(m1 @ (m2-m3) @ m4)"
   ]
  },
  {
   "cell_type": "code",
   "execution_count": 120,
   "metadata": {},
   "outputs": [
    {
     "data": {
      "text/plain": [
       "array([[  0,  12],\n",
       "       [-12,   0]])"
      ]
     },
     "execution_count": 120,
     "metadata": {},
     "output_type": "execute_result"
    }
   ],
   "source": [
    "# 2\n",
    "a = np.array([[1,0,2], [2,-1,0], [0,1,0]])\n",
    "b = np.array([[0,2], [1,3], [1,0]])\n",
    "c = np.array([[0,-2,2], [1,0,0]])\n",
    "\n",
    "(c @ np.transpose(a) @ b) - (np.transpose(b) @ a @ np.transpose(c))"
   ]
  },
  {
   "cell_type": "code",
   "execution_count": 122,
   "metadata": {},
   "outputs": [
    {
     "data": {
      "text/plain": [
       "array([[-1, 16, 14,  6],\n",
       "       [-2, 32, 28, 12],\n",
       "       [-1, 16, 14,  6],\n",
       "       [-2, 32, 28, 12]])"
      ]
     },
     "execution_count": 122,
     "metadata": {},
     "output_type": "execute_result"
    }
   ],
   "source": [
    "# 3\n",
    "c = np.array([[1,2,1,2]])\n",
    "b = np.array([[0,2,1,3], [-1,0,6,4], [1,0,1,-7], [0,7,0,1]])\n",
    "\n",
    "np.transpose(c) @ c @ b "
   ]
  },
  {
   "cell_type": "code",
   "execution_count": 124,
   "metadata": {},
   "outputs": [
    {
     "name": "stdout",
     "output_type": "stream",
     "text": [
      "[[ 1.  0.  0. -1.]\n",
      " [ 0.  1.  0.  1.]\n",
      " [ 0.  0.  1.  1.]\n",
      " [ 0.  0.  0.  0.]]\n"
     ]
    }
   ],
   "source": [
    "# 4\n",
    "m = np.array([[0,1,0,1], [1,1,1,1], [2,3,4,5], [5,7,9,11]])\n",
    "\n",
    "print(row_echelon_form(m))"
   ]
  },
  {
   "cell_type": "code",
   "execution_count": 125,
   "metadata": {},
   "outputs": [
    {
     "name": "stdout",
     "output_type": "stream",
     "text": [
      "[[ 1.  0.  0.  1.]\n",
      " [ 0.  1.  0. -1.]\n",
      " [ 0.  0.  1.  1.]\n",
      " [ 0.  0.  0.  0.]]\n"
     ]
    }
   ],
   "source": [
    "# 5\n",
    "m = np.array([[1,1,1,1], [2,2,2,2], [-1,-1,1,1], [3,5,-1,-3]])\n",
    "\n",
    "print(row_echelon_form(m))"
   ]
  },
  {
   "cell_type": "code",
   "execution_count": 217,
   "metadata": {},
   "outputs": [
    {
     "data": {
      "text/plain": [
       "-1.0000000000000009"
      ]
     },
     "execution_count": 217,
     "metadata": {},
     "output_type": "execute_result"
    }
   ],
   "source": [
    "# 6\n",
    "a = np.array([[2,1], [3,2]])\n",
    "b = np.array([[-1,-3],[1,4]])\n",
    "c = np.array([[2,-4], [-1,1]])\n",
    "\n",
    "# Solve the matrix equation 𝐴𝑋𝐵^T=𝐶 using LU\n",
    "a_inv = np.linalg.inv(a)\n",
    "b_inv = np.linalg.inv(b)\n",
    "\n",
    "np.dot(a_inv, np.dot(c, np.transpose(b_inv))).sum()\n",
    "\n"
   ]
  },
  {
   "cell_type": "code",
   "execution_count": 136,
   "metadata": {},
   "outputs": [
    {
     "data": {
      "text/plain": [
       "array([[  1. ,   0.5,  -5.5],\n",
       "       [  0. ,   0. ,   1. ],\n",
       "       [  2. ,   1.5, -11.5]])"
      ]
     },
     "execution_count": 136,
     "metadata": {},
     "output_type": "execute_result"
    }
   ],
   "source": [
    "# 9\n",
    "\n",
    "a = np.array([[3,5,-1], [-4,1,2], [0,1,0]])\n",
    "\n",
    "np.linalg.inv(a)\n"
   ]
  },
  {
   "cell_type": "code",
   "execution_count": 143,
   "metadata": {},
   "outputs": [
    {
     "data": {
      "text/plain": [
       "array([[-2.55555556],\n",
       "       [-3.44444444],\n",
       "       [-3.22222222]])"
      ]
     },
     "execution_count": 143,
     "metadata": {},
     "output_type": "execute_result"
    }
   ],
   "source": [
    "# 10\n",
    "matrix = np.array([[2,-3,1], [4,2,-5], [-2,2,1]])\n",
    "b = np.array([[2], [-1], [-5]])\n",
    "\n",
    "inv = np.linalg.inv(matrix)\n",
    "\n",
    "sol = np.dot(inv, b)\n",
    "\n",
    "# solution in a fraction view\n",
    "sol"
   ]
  },
  {
   "cell_type": "code",
   "execution_count": 279,
   "metadata": {},
   "outputs": [
    {
     "name": "stdout",
     "output_type": "stream",
     "text": [
      "6: 47\n",
      "7: -42\n",
      "8:[[-4.]\n",
      " [ 0.]\n",
      " [-3.]\n",
      " [ 2.]]\n",
      "9: [[ 0.23529412]\n",
      " [-0.35294118]\n",
      " [ 1.35294118]]\n",
      "11:\n",
      " [[  1.    0.5  -5.5]\n",
      " [  0.    0.    1. ]\n",
      " [  2.    1.5 -11.5]]\n",
      "12: 21\n",
      "17:\n",
      " [[  6  30  15  -6]\n",
      " [ 12  60  30 -12]\n",
      " [ 18  90  45 -18]\n",
      " [ -6 -30 -15   6]]\n",
      "18:\n",
      " [[ 1.          0.          0.         -0.75      ]\n",
      " [ 0.          1.          0.         -1.08333333]\n",
      " [ 0.          0.          1.          0.41666667]\n",
      " [ 0.          0.          0.          0.        ]]\n",
      "18:\n",
      " [[0. 1. 0.]\n",
      " [0. 0. 1.]\n",
      " [1. 0. 0.]]\n"
     ]
    }
   ],
   "source": [
    "# Week 1 quizz\n",
    "\n",
    "# 6\n",
    "a = np.array([-1, 5, 1, 4, 6])\n",
    "b = np.array([0, 8, -3, 4, -1])\n",
    "\n",
    "print(f\"6: {a@b}\")\n",
    "\n",
    "# 7\n",
    "a = np.array([[3,1,-2], [1,1,4]])\n",
    "b = np.array([[2,-1], [0,-5], [-1,0]])\n",
    "c = np.array([[4,3,-5], [4,1,0], [-3,1,0]])\n",
    "\n",
    "print(f\"7: {(a@c@b).sum()}\")\n",
    "\n",
    "# 8\n",
    "A = np.array([[1,5,-2,1], [3,16,-3,11], [0,0,6,10], [-5,-25,10,-1]])\n",
    "b = np.array([[4], [19], [2], [-12]])\n",
    "\n",
    "print(f\"8:{np.linalg.solve(A, b).round()}\")\n",
    "\n",
    "# 9\n",
    "matrix = np.array([[1,-2,3], [-3,0,2], [1,-1,4]])\n",
    "b = np.array([[5], [2], [6]])\n",
    "\n",
    "inv = np.linalg.inv(matrix)\n",
    "\n",
    "sol = np.dot(inv, b)\n",
    "\n",
    "print(f\"9: {sol}\")\n",
    "\n",
    "# 11\n",
    "matrix = np.array([[3,5,-1], [-4,1,2], [0,1,0]])\n",
    "print(f\"11:\\n {np.linalg.inv(matrix)}\")\n",
    "\n",
    "# 12. Using Gaussian elimination, find the inverse of M and write down the largest element of the inverse matrix\n",
    "M = np.array([[1,1,1,1], [-2,3,2,1], [0,1,1,1], [1,3,1,-2]])\n",
    "\n",
    "print(f\"12: {round(np.linalg.inv(M).max())}\")\n",
    "\n",
    "#17\n",
    "c = np.array([[1,2,3,-1]])\n",
    "b = np.array([[1,3,1,0], [1,0,-1,2], [0,0,1,2], [-1,1,0,1]])\n",
    "\n",
    "print(f\"17:\\n {np.transpose(c) @ c @ np.transpose(b) @ b}\")\n",
    "\n",
    "#18\n",
    "m = np.array([[1,1,2,-1], [-1,0,3,2], [2,-1,1,0], [0,1,5,1]])\n",
    "print(f\"18:\\n {row_echelon_form(m)}\")\n",
    "\n",
    "# Find LU decomposition of the matrix A; such that the matrix 𝐿 has unit diagonal elements. Fill the gaps in the matrix 𝐿 and list the numeric value 𝑦\n",
    "A = np.array([[-3,4,0], [1,-3,2], [6,7,1]])"
   ]
  },
  {
   "cell_type": "code",
   "execution_count": 272,
   "metadata": {},
   "outputs": [],
   "source": [
    "## Task 3\n",
    "# Find the sum of all matrix elements whose absolute value is greater than 5 using np.where\n",
    "b = np.array([[ -6,  -7,  -5,   0],\n",
    "       [-15,   2, -13,  -5],\n",
    "       [  8,   4,  10,   8],\n",
    "       [ -1,  -9,   7,  -4]])\n",
    "\n",
    "np.where(abs(b) > 5, b, 0).sum()\n",
    "\n",
    "\n",
    "# Create an identity matrix of the necessary size and subtract it from A.  Save the result to a variable **ans5**\n",
    "\n",
    "A = np.array([[  7,   8, -15,   8,  11,   7],\n",
    "       [ -5,  -9,  13,  -3, -15, -11],\n",
    "       [ -3,   0,  10,  -5,   3,  -8],\n",
    "       [ 10,   1,   7, -11,  10,  -3],\n",
    "       [ 11,   9,  -6, -14,  10, -11],\n",
    "       [  6,  -4,  -4,  -9,  -6,  -7]])\n",
    "\n",
    "ans5 = A - np.eye(6)"
   ]
  },
  {
   "cell_type": "code",
   "execution_count": 275,
   "metadata": {},
   "outputs": [
    {
     "data": {
      "text/plain": [
       "True"
      ]
     },
     "execution_count": 275,
     "metadata": {},
     "output_type": "execute_result"
    }
   ],
   "source": [
    "# Find the PLU decomposition and assert that by multiplying the matrices in the decomposition you get the original matrix back. Submit the matrix U as the answer.\n",
    "\n",
    "m = np.array([[ 12, -13,   2,   2, -11],\n",
    "       [  1,   4,  11,  11,  -5],\n",
    "       [ 13,  -5,   9,  12,  -2],\n",
    "       [  5, -13,  12,   3,   5],\n",
    "       [ -9,  11,  -1,  -6,  -5]])\n",
    "\n",
    "\n",
    "p, l, u = scipy.linalg.lu(m)\n",
    "\n",
    "np.allclose(m, p @ l @ u)"
   ]
  },
  {
   "cell_type": "markdown",
   "metadata": {},
   "source": [
    "# `Week 2 - Full rank decomposition and systems of linear equations`"
   ]
  },
  {
   "attachments": {},
   "cell_type": "markdown",
   "metadata": {},
   "source": [
    "`Vector spaces`  \n",
    "Consider some set V of elements x, y, z, ... It is called a vector space (or a linear space), if\n",
    "- for any two elements $x, y \\in$ V there exists their sum $z = x + y \\in V$;\n",
    "- for each $x \\in V$ and each real number $a$, there exists their product $\\lambda x \\in V$."
   ]
  },
  {
   "cell_type": "markdown",
   "metadata": {},
   "source": []
  },
  {
   "cell_type": "code",
   "execution_count": 4,
   "metadata": {},
   "outputs": [
    {
     "data": {
      "text/plain": [
       "3"
      ]
     },
     "execution_count": 4,
     "metadata": {},
     "output_type": "execute_result"
    }
   ],
   "source": [
    "m = np.array([[1,2,3], [5,6,7], [4,8,9]])\n",
    "\n",
    "la.matrix_rank(m)"
   ]
  },
  {
   "cell_type": "code",
   "execution_count": 6,
   "metadata": {},
   "outputs": [
    {
     "data": {
      "text/plain": [
       "array([[1., 0., 0.],\n",
       "       [0., 1., 2.]])"
      ]
     },
     "execution_count": 6,
     "metadata": {},
     "output_type": "execute_result"
    }
   ],
   "source": [
    "m = np.array([[4,4,8], [5,10,20]])\n",
    "\n",
    "row_echelon_form(m)"
   ]
  },
  {
   "cell_type": "code",
   "execution_count": 50,
   "metadata": {},
   "outputs": [
    {
     "data": {
      "text/plain": [
       "array([[ 1.,  0.,  1., -1.,  2.],\n",
       "       [-0.,  1., -2.,  3., -1.],\n",
       "       [ 0.,  0.,  0.,  0.,  0.]])"
      ]
     },
     "execution_count": 50,
     "metadata": {},
     "output_type": "execute_result"
    }
   ],
   "source": [
    "m = np.array([[1,1,-1,2,1], [1,0,1,-1,2], [3,1,1,0,5]])\n",
    "\n",
    "row_echelon_form(m)"
   ]
  },
  {
   "cell_type": "code",
   "execution_count": 67,
   "metadata": {},
   "outputs": [
    {
     "data": {
      "text/plain": [
       "3"
      ]
     },
     "execution_count": 67,
     "metadata": {},
     "output_type": "execute_result"
    }
   ],
   "source": [
    "m = np.array([[5,-1,-1,3,1], [5,-1,5,3,3], [5,-1,-7,-9,-1]])\n",
    "\n",
    "# row_echelon_form(m)\n",
    "\n",
    "la.matrix_rank(m)"
   ]
  },
  {
   "cell_type": "code",
   "execution_count": 70,
   "metadata": {},
   "outputs": [
    {
     "data": {
      "text/plain": [
       "array([[ 1.,  0.,  0.],\n",
       "       [ 0.,  1.,  0.],\n",
       "       [-0., -0.,  1.]])"
      ]
     },
     "execution_count": 70,
     "metadata": {},
     "output_type": "execute_result"
    }
   ],
   "source": [
    "# check linear dependence\n",
    "m = np.array([[1,3,7], [0,0,-2], [0,6,19]])\n",
    "\n",
    "row_echelon_form(m)\n",
    "\n"
   ]
  },
  {
   "cell_type": "code",
   "execution_count": 73,
   "metadata": {},
   "outputs": [
    {
     "data": {
      "text/plain": [
       "1"
      ]
     },
     "execution_count": 73,
     "metadata": {},
     "output_type": "execute_result"
    }
   ],
   "source": [
    "la.matrix_rank(np.array([[12,14], [18,21]]))"
   ]
  },
  {
   "cell_type": "code",
   "execution_count": 75,
   "metadata": {},
   "outputs": [
    {
     "data": {
      "text/plain": [
       "4"
      ]
     },
     "execution_count": 75,
     "metadata": {},
     "output_type": "execute_result"
    }
   ],
   "source": [
    "la.matrix_rank(np.array([[3,-1,1,9], [-3,4,1,1], [6,5,2,8], [1,1,1,1]]))"
   ]
  },
  {
   "cell_type": "code",
   "execution_count": 76,
   "metadata": {},
   "outputs": [
    {
     "data": {
      "text/plain": [
       "array([[ 1.        ,  0.        ,  1.57142857],\n",
       "       [-0.        ,  1.        ,  0.14285714],\n",
       "       [ 0.        ,  0.        ,  0.        ],\n",
       "       [ 0.        ,  0.        ,  0.        ]])"
      ]
     },
     "execution_count": 76,
     "metadata": {},
     "output_type": "execute_result"
    }
   ],
   "source": [
    "row_echelon_form(np.array([[1,3,2], [2,-1,3], [3,-5,4], [1,17,4]]))"
   ]
  },
  {
   "cell_type": "code",
   "execution_count": 77,
   "metadata": {},
   "outputs": [
    {
     "data": {
      "text/plain": [
       "array([[1., 0., 0., 0.],\n",
       "       [0., 1., 0., 0.],\n",
       "       [0., 0., 1., 0.],\n",
       "       [0., 0., 0., 1.]])"
      ]
     },
     "execution_count": 77,
     "metadata": {},
     "output_type": "execute_result"
    }
   ],
   "source": [
    "row_echelon_form(np.array([[1,2,3,4], [2,3,4,1], [3,4,1,2], [4,1,2,3]]))"
   ]
  },
  {
   "cell_type": "code",
   "execution_count": 102,
   "metadata": {},
   "outputs": [
    {
     "data": {
      "text/plain": [
       "False"
      ]
     },
     "execution_count": 102,
     "metadata": {},
     "output_type": "execute_result"
    }
   ],
   "source": [
    "m = np.array([[4,1,-8,5,2], [-3,1,4,7,1], [1,2,-4,12,1], [1,1,1,1,1]])\n",
    "m_p = np.array([[4,1,-8,5], [-3,1,4,7], [1,2,-4,12], [1,1,1,1]])\n",
    "# comparing ranks\n",
    "la.matrix_rank(m) == la.matrix_rank(m_p)\n"
   ]
  },
  {
   "cell_type": "code",
   "execution_count": 85,
   "metadata": {},
   "outputs": [
    {
     "data": {
      "text/plain": [
       "0.0"
      ]
     },
     "execution_count": 85,
     "metadata": {},
     "output_type": "execute_result"
    }
   ],
   "source": [
    "m = np.array([[1,0,3,1], [5,-1,1,0], [3,7,-1,8], [-3,-2,1,-3]])\n",
    "b = np.array([[1], [1], [1], [-1]])\n",
    "\n",
    "inv = la.inv(m)\n",
    "\n",
    "(inv @ b).sum()"
   ]
  },
  {
   "cell_type": "code",
   "execution_count": 94,
   "metadata": {},
   "outputs": [
    {
     "data": {
      "text/plain": [
       "3"
      ]
     },
     "execution_count": 94,
     "metadata": {},
     "output_type": "execute_result"
    }
   ],
   "source": [
    "# How many vectors are there in the basis of solution set for Ax=0?\n",
    "matrix = np.array([[4,5,7,-3,1], [11,8,-4,2,0]])\n",
    "\n",
    "5 - la.matrix_rank(matrix)\n",
    "\n",
    "\n"
   ]
  },
  {
   "cell_type": "code",
   "execution_count": 99,
   "metadata": {},
   "outputs": [
    {
     "data": {
      "text/plain": [
       "array([[ 5. ],\n",
       "       [ 5. ],\n",
       "       [-0. ],\n",
       "       [ 8.5]])"
      ]
     },
     "execution_count": 99,
     "metadata": {},
     "output_type": "execute_result"
    }
   ],
   "source": [
    "m = np.array([[5,2,1,-4], [0,3,4,-2], [1,3,4,-2], [-1,1,0,0]])\n",
    "b = np.array([[1], [-2], [3], [0]])\n",
    "\n",
    "inv = la.inv(m)\n",
    "\n",
    "(inv @ b).round(2)"
   ]
  },
  {
   "cell_type": "code",
   "execution_count": 100,
   "metadata": {},
   "outputs": [
    {
     "data": {
      "text/plain": [
       "2.0000000000000004"
      ]
     },
     "execution_count": 100,
     "metadata": {},
     "output_type": "execute_result"
    }
   ],
   "source": [
    "m = np.array([[1,-1,3,1], [3,-2,2,-1], [2,1,1,-3], [1,-3,2,1]])\n",
    "b = np.array([[4], [-1], [1], [0]])\n",
    "\n",
    "inv = la.inv(m)\n",
    "\n",
    "(inv @ b).sum()"
   ]
  },
  {
   "cell_type": "code",
   "execution_count": 101,
   "metadata": {},
   "outputs": [
    {
     "data": {
      "text/plain": [
       "array([[ 1.  ,  0.  ,  0.  ,  2.  ],\n",
       "       [ 0.  ,  1.  ,  0.  , -1.75],\n",
       "       [ 0.  ,  0.  ,  1.  ,  5.75]])"
      ]
     },
     "execution_count": 101,
     "metadata": {},
     "output_type": "execute_result"
    }
   ],
   "source": [
    "m = np.array([[3,-2,-2,-2], [6,3,-1,1], [3,-1,-1,2]])\n",
    "\n",
    "row_echelon_form(m)"
   ]
  },
  {
   "cell_type": "code",
   "execution_count": 51,
   "metadata": {},
   "outputs": [
    {
     "data": {
      "text/plain": [
       "2"
      ]
     },
     "execution_count": 51,
     "metadata": {},
     "output_type": "execute_result"
    }
   ],
   "source": [
    "# W2Q2\n",
    "la.matrix_rank(np.array([[1,4,5], [-5,8,9], [-12,8,8]]))"
   ]
  },
  {
   "cell_type": "code",
   "execution_count": 54,
   "metadata": {},
   "outputs": [
    {
     "data": {
      "text/plain": [
       "3"
      ]
     },
     "execution_count": 54,
     "metadata": {},
     "output_type": "execute_result"
    }
   ],
   "source": [
    "# W2Q3\n",
    "la.matrix_rank(np.array([[4,8,1,-9], [0,5,1,3], [2,9,1,4], [1,7,1,3.5]]))"
   ]
  },
  {
   "cell_type": "code",
   "execution_count": 55,
   "metadata": {},
   "outputs": [
    {
     "data": {
      "text/plain": [
       "array([[ 1.        ,  0.        ,  0.        , -6.61333333],\n",
       "       [ 0.        ,  1.        ,  0.        , -1.57333333],\n",
       "       [-0.        , -0.        ,  1.        ,  0.30666667]])"
      ]
     },
     "execution_count": 55,
     "metadata": {},
     "output_type": "execute_result"
    }
   ],
   "source": [
    "#W2Q4\n",
    "# find number of free variables of the matrix\n",
    "m = np.array([[0,2,7,-1], [-1,2,5,5], [-4,13,0,6]])\n",
    "row_echelon_form(m)"
   ]
  },
  {
   "cell_type": "code",
   "execution_count": 60,
   "metadata": {},
   "outputs": [
    {
     "data": {
      "text/plain": [
       "True"
      ]
     },
     "execution_count": 60,
     "metadata": {},
     "output_type": "execute_result"
    }
   ],
   "source": [
    "# W2Q5\n",
    "# Does the SLAE have solutions? Use Rouche-Capelli Theorem\n",
    "\n",
    "m = np.array([[-8,-1,5], [-5,2,7], [0,3,8]])\n",
    "m_p = np.array([[-8,-1,5, 1], [-5,2,7,0], [0,3,8,2]])\n",
    "\n",
    "# comparing ranks\n",
    "la.matrix_rank(m) == la.matrix_rank(m_p)\n"
   ]
  },
  {
   "cell_type": "markdown",
   "metadata": {},
   "source": [
    "Week 3"
   ]
  },
  {
   "cell_type": "code",
   "execution_count": 2,
   "metadata": {},
   "outputs": [
    {
     "data": {
      "text/plain": [
       "True"
      ]
     },
     "execution_count": 2,
     "metadata": {},
     "output_type": "execute_result"
    }
   ],
   "source": [
    "m = np.array([[1,0,3], [1,4,3], [2,6,7]])\n",
    "\n",
    "# find if all vectors from m are linearly independent\n",
    "la.matrix_rank(m) == m.shape[0]"
   ]
  },
  {
   "cell_type": "code",
   "execution_count": 4,
   "metadata": {},
   "outputs": [
    {
     "data": {
      "text/plain": [
       "4"
      ]
     },
     "execution_count": 4,
     "metadata": {},
     "output_type": "execute_result"
    }
   ],
   "source": [
    "m = np.array([[1,0,2,0], [1,2,1,3], [0,1,3,0], [0,1,5,6], [4,1,3,0]])\n",
    "\n",
    "# find if all vectors from m are linearly independent\n",
    "la.matrix_rank(m)\n"
   ]
  },
  {
   "cell_type": "code",
   "execution_count": 3,
   "metadata": {},
   "outputs": [
    {
     "data": {
      "text/plain": [
       "-0.9333333333333333"
      ]
     },
     "execution_count": 3,
     "metadata": {},
     "output_type": "execute_result"
    }
   ],
   "source": [
    "# Find the scalar product ⟨x,y⟩ of vectors x and y in R^3\n",
    "\n",
    "x = np.array([2,-2, 1])\n",
    "y = np.array([-4,3,0])\n",
    "\n",
    "(x @ y).sum()\n",
    "\n",
    "# find the vector length of x \n",
    "\n",
    "np.linalg.norm(y)\n",
    "\n",
    "# Find the cosine of the angle between vectors x and y from the previous tasks. Round your answer to hundredths if needed.\n",
    "\n",
    "(x @ y).sum() / (np.linalg.norm(x) * np.linalg.norm(y))\n",
    "\n",
    "# Are vectors x and y from the previous tasks orthogonal?\n",
    "\n",
    "# np.isclose((x @ y).sum(), 0)"
   ]
  },
  {
   "cell_type": "code",
   "execution_count": 27,
   "metadata": {},
   "outputs": [
    {
     "data": {
      "text/plain": [
       "0.5951585994691279"
      ]
     },
     "execution_count": 27,
     "metadata": {},
     "output_type": "execute_result"
    }
   ],
   "source": [
    "# Find the cosine of the angle between vectors x and y from the previous tasks. Round your answer to hundredths if needed.\n",
    "\n",
    "np.cos((x @ y).sum() / (np.linalg.norm(x) * np.linalg.norm(y)))\n"
   ]
  },
  {
   "cell_type": "code",
   "execution_count": 36,
   "metadata": {},
   "outputs": [
    {
     "name": "stdout",
     "output_type": "stream",
     "text": [
      "25 100\n"
     ]
    }
   ],
   "source": [
    "# A company’s shares cost $100 on the first day, $200 on the second one and $150 on the third one. Using linear regression, try to predict the cost of the shares on the fourth day. Find coefficients k and b for a line y = kx + b that corresponds to the shares’ costs. Enter coefficients in the given order separated by space. For example, if k=1 and b=2, he answer should be “1 2”. If there are no coefficients, enter “None”. Round them to hundredths if needed.\n",
    "\n",
    "x = np.array([1,2,3])\n",
    "y = np.array([100,200,150])\n",
    "\n",
    "k, b = np.polyfit(x, y, 1)\n",
    "\n",
    "print(round(k), round(b))"
   ]
  },
  {
   "cell_type": "markdown",
   "metadata": {},
   "source": [
    "Week 3 final quiz"
   ]
  },
  {
   "cell_type": "code",
   "execution_count": 37,
   "metadata": {},
   "outputs": [
    {
     "data": {
      "text/plain": [
       "11.0"
      ]
     },
     "execution_count": 37,
     "metadata": {},
     "output_type": "execute_result"
    }
   ],
   "source": [
    "# Find the length of the vector x in the 5-dimensional space. Please enter a numeric value\n",
    "\n",
    "x = np.array([8,6,4,2,1])\n",
    "\n",
    "np.linalg.norm(x)"
   ]
  },
  {
   "cell_type": "code",
   "execution_count": 40,
   "metadata": {},
   "outputs": [
    {
     "data": {
      "text/plain": [
       "True"
      ]
     },
     "execution_count": 40,
     "metadata": {},
     "output_type": "execute_result"
    }
   ],
   "source": [
    "# Find the length of x=(1,−7,3) is a vector in Euclidean space, the coordinates are given with respect to some orthogonal basis.\n",
    "\n",
    "x = np.array([1,-7,3])\n",
    "\n",
    "np.linalg.norm(x) == np.sqrt(59)"
   ]
  },
  {
   "cell_type": "code",
   "execution_count": 77,
   "metadata": {},
   "outputs": [
    {
     "data": {
      "text/plain": [
       "True"
      ]
     },
     "execution_count": 77,
     "metadata": {},
     "output_type": "execute_result"
    }
   ],
   "source": [
    "# Find the angle between x and y, if x = (1,-3,0)^T, y = (0,1,-7)^T, where x, y are vectors in R^3\n",
    "\n",
    "x = np.array([1,-3,0])\n",
    "y = np.array([0,1,-7])\n",
    "\n",
    "# find the angle\n",
    "np.arccos((x.T @ y.T).sum() / (np.linalg.norm(x) * np.linalg.norm(y))) == np.arccos(-3/(10*np.sqrt(5)))"
   ]
  },
  {
   "cell_type": "code",
   "execution_count": 4,
   "metadata": {},
   "outputs": [
    {
     "data": {
      "text/plain": [
       "-0.15701857325533194"
      ]
     },
     "execution_count": 4,
     "metadata": {},
     "output_type": "execute_result"
    }
   ],
   "source": [
    "# Write down the cos of the angle between x and y, if x = (3,1,2,5)^T, y = (-1,4,-3,0), x, y are vectors in Euclidean space. Please enter a numeric value rounded to the nearest hundredth.\n",
    "\n",
    "x = np.array([3,1,2,5])\n",
    "y = np.array([-1,4,-3,0])\n",
    "\n",
    "(x.T @ y.T).sum() / (np.linalg.norm(x) * np.linalg.norm(y))"
   ]
  },
  {
   "cell_type": "code",
   "execution_count": 97,
   "metadata": {},
   "outputs": [
    {
     "data": {
      "text/plain": [
       "False"
      ]
     },
     "execution_count": 97,
     "metadata": {},
     "output_type": "execute_result"
    }
   ],
   "source": [
    "# Does the following set of vectors form a basis in Rn?\n",
    "\n",
    "x1 = np.array([1,1,1,1])\n",
    "x2 = np.array([2,3,0,-1])\n",
    "x3 = np.array([1,2,1,3])\n",
    "x4 = np.array([1,3,-1,0])\n",
    "\n",
    "# Does the following set of vectors x1,x2,x3,x4 form a basis in Rn?\n",
    "\n",
    "# find the rank of the matrix\n",
    "la.matrix_rank(np.array([x1,x2,x3,x4])) == 4\n"
   ]
  },
  {
   "cell_type": "code",
   "execution_count": 98,
   "metadata": {},
   "outputs": [
    {
     "data": {
      "text/plain": [
       "36"
      ]
     },
     "execution_count": 98,
     "metadata": {},
     "output_type": "execute_result"
    }
   ],
   "source": [
    "x, y = np.array([9,-2,4]), np.array([2,-5,2])\n",
    "\n",
    "# find the dot product\n",
    "(x @ y).sum()"
   ]
  },
  {
   "cell_type": "code",
   "execution_count": 120,
   "metadata": {},
   "outputs": [
    {
     "name": "stdout",
     "output_type": "stream",
     "text": [
      "True True\n"
     ]
    }
   ],
   "source": [
    "# Find the approximation to the solution of Ax=b. Use least squares method.\n",
    "\n",
    "a = np.array([[3,-5], [1,-7], [0,1]])\n",
    "b = np.array([0,2,5])\n",
    "\n",
    "# find the solution\n",
    "print(round(la.lstsq(a, b, rcond=None)[0][0],5)  == round(-24/133,5), round(la.lstsq(a, b, rcond=None)[0][1],5)  == round(-23/133,5))"
   ]
  },
  {
   "cell_type": "code",
   "execution_count": 18,
   "metadata": {},
   "outputs": [
    {
     "data": {
      "text/plain": [
       "array([[ 0.89442719, -0.4472136 ],\n",
       "       [ 0.4472136 ,  0.89442719]])"
      ]
     },
     "execution_count": 18,
     "metadata": {},
     "output_type": "execute_result"
    }
   ],
   "source": [
    "# Find eigenvalue (or eigenvalues) of matrix A \n",
    "\n",
    "A = np.array([[2,2], [2,-1]])\n",
    "\n",
    "# find eigenvalues\n",
    "eigenval = la.eigvals(A)\n",
    "\n",
    "# Using matrix and its eigenvalues from the previous task, choose all eigenvectors of A\n",
    "eigenvec = la.eig(A)[1]\n",
    "\n",
    "# Using matrix, eigenvalues, and eigenvectors from the previous tasks, find matrix L from spectral decomposition of matrix A.\n",
    "\n",
    "# find the diagonal matrix\n",
    "np.diag(eigenval)\n",
    "\n",
    "# Using matrices, eigenvalues, and eigenvectors from the previous tasks, find matrix U from spectral decomposition of matrix A\n",
    "\n",
    "# find the matrix U\n",
    "eigenvec\n"
   ]
  },
  {
   "cell_type": "code",
   "execution_count": 26,
   "metadata": {},
   "outputs": [
    {
     "data": {
      "text/plain": [
       "15.297058540778355"
      ]
     },
     "execution_count": 26,
     "metadata": {},
     "output_type": "execute_result"
    }
   ],
   "source": [
    "# Let's consider a linear manifold P=x0+L Given that the orthogonal component of the vector x-x0 is (9 −12 0)^T, what is the distance 𝜌(x,P)? Please enter a numeric value.\n",
    "\n",
    "x0 = np.array([1,1,1])\n",
    "x = np.array([10, -11, 1])\n",
    "L = np.array([1,1,1])\n",
    "\n",
    "# find the distance\n",
    "np.linalg.norm(x - x0 - (x - x0) @ L * L)"
   ]
  },
  {
   "cell_type": "code",
   "execution_count": 27,
   "metadata": {},
   "outputs": [
    {
     "data": {
      "text/plain": [
       "-7.852886724691755"
      ]
     },
     "execution_count": 27,
     "metadata": {},
     "output_type": "execute_result"
    }
   ],
   "source": [
    "# Find the QR decomposition of matrix A where diagonal elements in R are negative. Write down the sum of elements in matrix R as the answer to this question\n",
    "\n",
    "A = np.array([[3,1,-2], [1,1,1], [-1,2,4]])\n",
    "q, r = la.qr(A)\n",
    "r.sum()"
   ]
  },
  {
   "cell_type": "code",
   "execution_count": 15,
   "metadata": {},
   "outputs": [
    {
     "name": "stdout",
     "output_type": "stream",
     "text": [
      "[[-0.89442719 -0.4472136   0.        ]\n",
      " [-0.4472136   0.89442719  0.        ]\n",
      " [ 0.          0.          1.        ]]\n",
      "\n",
      "[5. 0.]\n",
      "\n",
      "[[-0.4472136  -0.89442719]\n",
      " [-0.89442719  0.4472136 ]]\n"
     ]
    }
   ],
   "source": [
    "# Find SVD for A\n",
    "\n",
    "A = np.array([[2,4], [1,2], [0,0]])\n",
    "\n",
    "# find SVD\n",
    "u, s, vh = la.svd(A)\n",
    "\n",
    "print(f\"{u}\\n\\n{s}\\n\\n{vh}\")"
   ]
  },
  {
   "cell_type": "code",
   "execution_count": 16,
   "metadata": {},
   "outputs": [
    {
     "name": "stdout",
     "output_type": "stream",
     "text": [
      "[[ 0. -1.  0.]\n",
      " [-1.  0.  0.]\n",
      " [ 0.  0.  1.]]\n",
      "\n",
      "[5. 0.]\n",
      "\n",
      "[[-0.6 -0.8]\n",
      " [-0.8  0.6]]\n"
     ]
    }
   ],
   "source": [
    "# Find SVD for A\n",
    "\n",
    "A = np.array([[0,0], [3,4], [0,0]])\n",
    "\n",
    "# find SVD\n",
    "u, s, vh = la.svd(A)\n",
    "\n",
    "print(f\"{u}\\n\\n{s}\\n\\n{vh}\")"
   ]
  },
  {
   "cell_type": "code",
   "execution_count": 18,
   "metadata": {},
   "outputs": [
    {
     "data": {
      "text/plain": [
       "8.0"
      ]
     },
     "execution_count": 18,
     "metadata": {},
     "output_type": "execute_result"
    }
   ],
   "source": [
    "# Find singular values for A and enter their sum. Please enter a numeric value rounding your answer to the nearest hundredth, if necessary\n",
    "\n",
    "A = np.array([[4,-1], [-1,4]])\n",
    "\n",
    "# find singular values\n",
    "la.svd(A)[1].sum()\n"
   ]
  },
  {
   "cell_type": "code",
   "execution_count": 25,
   "metadata": {},
   "outputs": [
    {
     "data": {
      "text/plain": [
       "5.0"
      ]
     },
     "execution_count": 25,
     "metadata": {},
     "output_type": "execute_result"
    }
   ],
   "source": [
    "# Find singular values for A and enter their sum. Please enter a numeric value rounding your answer to the nearest hundredth, if necessary\n",
    "\n",
    "np.sum(la.svd(np.array([[-2, 0, 1], [0,-2,1], [1,1,-1]]))[1])\n"
   ]
  },
  {
   "cell_type": "code",
   "execution_count": null,
   "metadata": {},
   "outputs": [],
   "source": []
  }
 ],
 "metadata": {
  "kernelspec": {
   "display_name": "base",
   "language": "python",
   "name": "python3"
  },
  "language_info": {
   "codemirror_mode": {
    "name": "ipython",
    "version": 3
   },
   "file_extension": ".py",
   "mimetype": "text/x-python",
   "name": "python",
   "nbconvert_exporter": "python",
   "pygments_lexer": "ipython3",
   "version": "3.9.12"
  },
  "orig_nbformat": 4,
  "vscode": {
   "interpreter": {
    "hash": "cd78fef2128015050713e82ca51c6520b11aee7c9ee8df750520bbbc7384cbaa"
   }
  }
 },
 "nbformat": 4,
 "nbformat_minor": 2
}
